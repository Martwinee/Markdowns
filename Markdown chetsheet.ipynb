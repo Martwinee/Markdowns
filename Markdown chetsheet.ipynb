{
 "cells": [
  {
   "cell_type": "markdown",
   "id": "e67261f9",
   "metadata": {},
   "source": [
    "# Markdown Cheatsheet\n",
    "\n",
    " _This sheet is intended as a quick reference and showcase for most used markdowns. This info was taken from **Adam Pritchard** and you can find original page for the markdowns [here](https://github.com/adam-p/markdown-here/wiki/Markdown-Cheatsheet)\n",
    "***"
   ]
  },
  {
   "cell_type": "markdown",
   "id": "f7dbc07c",
   "metadata": {},
   "source": [
    "# Headers\n",
    "\n",
    "### 1. Using hash sign#\n",
    "\n",
    "# H1\n",
    "## H2\n",
    "### H3\n",
    "#### H4\n",
    "##### H5\n",
    "###### H6\n",
    "\n",
    "## 2. Alternatively, for H1 and H2, an underline-ish style: === or ----\n",
    "\n",
    "Alt-H1\n",
    "=====\n",
    "\n",
    "Alt-H2\n",
    "-----"
   ]
  },
  {
   "cell_type": "markdown",
   "id": "b5ab0238",
   "metadata": {},
   "source": [
    "# Emphasis\n",
    "\n",
    "Emphasis, aka italics, with *asterisks* or _underscores_.\n",
    "\n",
    "Strong emphasis, aka bold, with **asterisks** or __underscores__.\n",
    "\n",
    "Combined emphasis with **asterisks and _underscores_**.\n",
    "\n",
    "Strikethrough uses two tildes. ~~Scratch this.~~\n"
   ]
  },
  {
   "cell_type": "markdown",
   "id": "5845a089",
   "metadata": {},
   "source": [
    "# Lists \n",
    "1. First ordered list item\n",
    "2. Another item\n",
    "* Unordered sub-list. \n",
    "1. Actual numbers don't matter, just that it's a number\n",
    "1. Ordered sub-list\n",
    "4. And another item.\n",
    "  \n",
    "  You can have properly indented paragraphs within list items. Notice the blank line above, and the leading spaces (at least one, but we'll use three here to also align the raw Markdown).\n",
    "\n",
    "  To have a line break without a paragraph, you will need to use two trailing spaces.  \n",
    "  Note that this line is separate, but within the same paragraph.  \n",
    " (This is contrary to the typical GFM line break behaviour, where trailing spaces are not required.)\n",
    "\n",
    "* Unordered list can use asterisks\n",
    "- Or minuses\n",
    "+ Or pluses"
   ]
  },
  {
   "cell_type": "markdown",
   "id": "2df9f0e4",
   "metadata": {},
   "source": [
    "# Links\n",
    "[I'm an inline-style link](https://www.google.com)\n",
    "\n",
    "[I'm an inline-style link with title](https://www.google.com \"Google's Homepage\")\n",
    "\n",
    "[I'm a reference-style link][Arbitrary case-insensitive reference text]\n",
    "\n",
    "[I'm a relative reference to a repository file](../blob/master/LICENSE)\n",
    "\n",
    "[You can use numbers for reference-style link definitions][1]\n",
    "\n",
    "Or leave it empty and use the [link text itself].\n",
    "\n",
    "URLs and URLs in angle brackets will automatically get turned into links. \n",
    "http://www.example.com or <http://www.example.com> and sometimes \n",
    "example.com (but not on Github, for example).\n",
    "\n",
    "Some text to show that the reference links can follow later.\n",
    "\n",
    "[arbitrary case-insensitive reference text]: https://www.mozilla.org\n",
    "[1]: http://slashdot.org\n",
    "[link text itself]: http://www.reddit.com"
   ]
  },
  {
   "cell_type": "markdown",
   "id": "1905b570",
   "metadata": {},
   "source": [
    "# Blockquotes\n",
    "> Blockquotes are very handy in email to emulate reply text.\n",
    "> This line is part of the same quote.\n",
    "\n",
    "Quote break.\n",
    "\n",
    "> This is a very long line that will still be quoted properly when it wraps. Oh boy let's keep writing to make sure this is long enough to actually wrap for everyone. Oh, you can *put* **Markdown** into a blockquote"
   ]
  },
  {
   "cell_type": "code",
   "execution_count": null,
   "id": "8785cba9",
   "metadata": {},
   "outputs": [],
   "source": []
  }
 ],
 "metadata": {
  "kernelspec": {
   "display_name": "Python 3 (ipykernel)",
   "language": "python",
   "name": "python3"
  },
  "language_info": {
   "codemirror_mode": {
    "name": "ipython",
    "version": 3
   },
   "file_extension": ".py",
   "mimetype": "text/x-python",
   "name": "python",
   "nbconvert_exporter": "python",
   "pygments_lexer": "ipython3",
   "version": "3.9.7"
  }
 },
 "nbformat": 4,
 "nbformat_minor": 5
}
