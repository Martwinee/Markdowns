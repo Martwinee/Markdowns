{
 "cells": [
  {
   "cell_type": "markdown",
   "id": "e67261f9",
   "metadata": {},
   "source": [
    "# **Markdown Cheatsheet**\n",
    "\n",
    "This sheet is intended as a quick reference and showcase for most used markdowns. This info was taken from **Adam Pritchard** and you can find original page for the markdowns [here](https://github.com/adam-p/markdown-here/wiki/Markdown-Cheatsheet) \n"
   ]
  },
  {
   "cell_type": "code",
   "execution_count": 1,
   "id": "fbd52179",
   "metadata": {},
   "outputs": [
    {
     "data": {
      "text/plain": [
       "'C:\\\\Users\\\\abdur'"
      ]
     },
     "execution_count": 1,
     "metadata": {},
     "output_type": "execute_result"
    }
   ],
   "source": [
    "pwd"
   ]
  },
  {
   "cell_type": "code",
   "execution_count": null,
   "id": "8f3c55ec",
   "metadata": {},
   "outputs": [],
   "source": []
  }
 ],
 "metadata": {
  "kernelspec": {
   "display_name": "Python 3 (ipykernel)",
   "language": "python",
   "name": "python3"
  },
  "language_info": {
   "codemirror_mode": {
    "name": "ipython",
    "version": 3
   },
   "file_extension": ".py",
   "mimetype": "text/x-python",
   "name": "python",
   "nbconvert_exporter": "python",
   "pygments_lexer": "ipython3",
   "version": "3.9.7"
  }
 },
 "nbformat": 4,
 "nbformat_minor": 5
}
